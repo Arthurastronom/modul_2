{
 "cells": [
  {
   "cell_type": "markdown",
   "metadata": {},
   "source": [
    "# Описание задания:\n",
    "\n",
    "Вас пригласили поучаствовать в одном из проектов UNICEF — международного подразделения ООН, чья миссия состоит в повышении уровня благополучия детей по всему миру. \n",
    "\n",
    "Суть проекта — отследить влияние условий жизни учащихся в возрасте от 15 до 22 лет на их успеваемость по математике, чтобы на ранней стадии выявлять студентов, находящихся в группе риска.\n",
    "\n",
    "И сделать это можно с помощью модели, которая предсказывала бы результаты госэкзамена по математике для каждого ученика школы (вот она, сила ML!). Чтобы определиться с параметрами будущей модели, проведите разведывательный анализ данных и составьте отчёт по его результатам. "
   ]
  },
  {
   "cell_type": "code",
   "execution_count": 1,
   "metadata": {},
   "outputs": [],
   "source": [
    "import pandas as pd\n",
    "import matplotlib.pyplot as plt\n",
    "import seaborn as sns\n",
    "from itertools import combinations\n",
    "from scipy.stats import ttest_ind"
   ]
  },
  {
   "cell_type": "code",
   "execution_count": 2,
   "metadata": {},
   "outputs": [
    {
     "data": {
      "text/html": [
       "<div>\n",
       "<style scoped>\n",
       "    .dataframe tbody tr th:only-of-type {\n",
       "        vertical-align: middle;\n",
       "    }\n",
       "\n",
       "    .dataframe tbody tr th {\n",
       "        vertical-align: top;\n",
       "    }\n",
       "\n",
       "    .dataframe thead th {\n",
       "        text-align: right;\n",
       "    }\n",
       "</style>\n",
       "<table border=\"1\" class=\"dataframe\">\n",
       "  <thead>\n",
       "    <tr style=\"text-align: right;\">\n",
       "      <th></th>\n",
       "      <th>school</th>\n",
       "      <th>sex</th>\n",
       "      <th>age</th>\n",
       "      <th>address</th>\n",
       "      <th>famsize</th>\n",
       "      <th>Pstatus</th>\n",
       "      <th>Medu</th>\n",
       "      <th>Fedu</th>\n",
       "      <th>Mjob</th>\n",
       "      <th>Fjob</th>\n",
       "      <th>...</th>\n",
       "      <th>studytime, granular</th>\n",
       "      <th>higher</th>\n",
       "      <th>internet</th>\n",
       "      <th>romantic</th>\n",
       "      <th>famrel</th>\n",
       "      <th>freetime</th>\n",
       "      <th>goout</th>\n",
       "      <th>health</th>\n",
       "      <th>absences</th>\n",
       "      <th>score</th>\n",
       "    </tr>\n",
       "  </thead>\n",
       "  <tbody>\n",
       "    <tr>\n",
       "      <th>0</th>\n",
       "      <td>GP</td>\n",
       "      <td>F</td>\n",
       "      <td>18</td>\n",
       "      <td>U</td>\n",
       "      <td>NaN</td>\n",
       "      <td>A</td>\n",
       "      <td>4.0</td>\n",
       "      <td>4.0</td>\n",
       "      <td>at_home</td>\n",
       "      <td>teacher</td>\n",
       "      <td>...</td>\n",
       "      <td>-6.0</td>\n",
       "      <td>yes</td>\n",
       "      <td>NaN</td>\n",
       "      <td>no</td>\n",
       "      <td>4.0</td>\n",
       "      <td>3.0</td>\n",
       "      <td>4.0</td>\n",
       "      <td>3.0</td>\n",
       "      <td>6.0</td>\n",
       "      <td>30.0</td>\n",
       "    </tr>\n",
       "    <tr>\n",
       "      <th>1</th>\n",
       "      <td>GP</td>\n",
       "      <td>F</td>\n",
       "      <td>17</td>\n",
       "      <td>U</td>\n",
       "      <td>GT3</td>\n",
       "      <td>NaN</td>\n",
       "      <td>1.0</td>\n",
       "      <td>1.0</td>\n",
       "      <td>at_home</td>\n",
       "      <td>other</td>\n",
       "      <td>...</td>\n",
       "      <td>-6.0</td>\n",
       "      <td>yes</td>\n",
       "      <td>yes</td>\n",
       "      <td>no</td>\n",
       "      <td>5.0</td>\n",
       "      <td>3.0</td>\n",
       "      <td>3.0</td>\n",
       "      <td>3.0</td>\n",
       "      <td>4.0</td>\n",
       "      <td>30.0</td>\n",
       "    </tr>\n",
       "    <tr>\n",
       "      <th>2</th>\n",
       "      <td>GP</td>\n",
       "      <td>F</td>\n",
       "      <td>15</td>\n",
       "      <td>U</td>\n",
       "      <td>LE3</td>\n",
       "      <td>T</td>\n",
       "      <td>1.0</td>\n",
       "      <td>1.0</td>\n",
       "      <td>at_home</td>\n",
       "      <td>other</td>\n",
       "      <td>...</td>\n",
       "      <td>-6.0</td>\n",
       "      <td>yes</td>\n",
       "      <td>yes</td>\n",
       "      <td>NaN</td>\n",
       "      <td>4.0</td>\n",
       "      <td>3.0</td>\n",
       "      <td>2.0</td>\n",
       "      <td>3.0</td>\n",
       "      <td>10.0</td>\n",
       "      <td>50.0</td>\n",
       "    </tr>\n",
       "    <tr>\n",
       "      <th>3</th>\n",
       "      <td>GP</td>\n",
       "      <td>F</td>\n",
       "      <td>15</td>\n",
       "      <td>U</td>\n",
       "      <td>GT3</td>\n",
       "      <td>T</td>\n",
       "      <td>4.0</td>\n",
       "      <td>2.0</td>\n",
       "      <td>health</td>\n",
       "      <td>NaN</td>\n",
       "      <td>...</td>\n",
       "      <td>-9.0</td>\n",
       "      <td>yes</td>\n",
       "      <td>yes</td>\n",
       "      <td>yes</td>\n",
       "      <td>3.0</td>\n",
       "      <td>2.0</td>\n",
       "      <td>2.0</td>\n",
       "      <td>5.0</td>\n",
       "      <td>2.0</td>\n",
       "      <td>75.0</td>\n",
       "    </tr>\n",
       "    <tr>\n",
       "      <th>4</th>\n",
       "      <td>GP</td>\n",
       "      <td>F</td>\n",
       "      <td>16</td>\n",
       "      <td>U</td>\n",
       "      <td>GT3</td>\n",
       "      <td>T</td>\n",
       "      <td>3.0</td>\n",
       "      <td>3.0</td>\n",
       "      <td>other</td>\n",
       "      <td>other</td>\n",
       "      <td>...</td>\n",
       "      <td>-6.0</td>\n",
       "      <td>yes</td>\n",
       "      <td>no</td>\n",
       "      <td>no</td>\n",
       "      <td>4.0</td>\n",
       "      <td>3.0</td>\n",
       "      <td>2.0</td>\n",
       "      <td>5.0</td>\n",
       "      <td>4.0</td>\n",
       "      <td>50.0</td>\n",
       "    </tr>\n",
       "  </tbody>\n",
       "</table>\n",
       "<p>5 rows × 30 columns</p>\n",
       "</div>"
      ],
      "text/plain": [
       "  school sex  age address famsize Pstatus  Medu  Fedu     Mjob     Fjob  ...  \\\n",
       "0     GP   F   18       U     NaN       A   4.0   4.0  at_home  teacher  ...   \n",
       "1     GP   F   17       U     GT3     NaN   1.0   1.0  at_home    other  ...   \n",
       "2     GP   F   15       U     LE3       T   1.0   1.0  at_home    other  ...   \n",
       "3     GP   F   15       U     GT3       T   4.0   2.0   health      NaN  ...   \n",
       "4     GP   F   16       U     GT3       T   3.0   3.0    other    other  ...   \n",
       "\n",
       "  studytime, granular higher  internet  romantic  famrel freetime goout  \\\n",
       "0                -6.0    yes       NaN        no     4.0      3.0   4.0   \n",
       "1                -6.0    yes       yes        no     5.0      3.0   3.0   \n",
       "2                -6.0    yes       yes       NaN     4.0      3.0   2.0   \n",
       "3                -9.0    yes       yes       yes     3.0      2.0   2.0   \n",
       "4                -6.0    yes        no        no     4.0      3.0   2.0   \n",
       "\n",
       "  health absences score  \n",
       "0    3.0      6.0  30.0  \n",
       "1    3.0      4.0  30.0  \n",
       "2    3.0     10.0  50.0  \n",
       "3    5.0      2.0  75.0  \n",
       "4    5.0      4.0  50.0  \n",
       "\n",
       "[5 rows x 30 columns]"
      ]
     },
     "execution_count": 2,
     "metadata": {},
     "output_type": "execute_result"
    }
   ],
   "source": [
    "stud_math = pd.read_csv('stud_math.csv')\n",
    "stud_math.head()"
   ]
  },
  {
   "cell_type": "markdown",
   "metadata": {},
   "source": [
    "# Описание переменных\n",
    "\n",
    "1.  school — аббревиатура школы, в которой учится ученик\n",
    "2.  sex — пол ученика ('F' - женский, 'M' - мужской)\n",
    "3.  age — возраст ученика (от 15 до 22)\n",
    "4.  address — тип адреса ученика ('U' - городской, 'R' - за городом)\n",
    "5. famsize — размер семьи('LE3' <= 3, 'GT3' >3)\n",
    "6. Pstatus — статус совместного жилья родителей ('T' - живут вместе 'A' - раздельно)\n",
    "7. Medu — образование матери (0 - нет, 1 - 4 класса, 2 - 5-9 классы, 3 - среднее специальное или 11 классов, 4 - высшее)\n",
    "8. Fedu — образование отца (0 - нет, 1 - 4 класса, 2 - 5-9 классы, 3 - среднее специальное или 11 классов, 4 - высшее)\n",
    "9. Mjob — работа матери ('teacher' - учитель, 'health' - сфера здравоохранения, 'services' - гос служба, 'at_home' - не работает, 'other' - другое)\n",
    "10. Fjob — работа отца ('teacher' - учитель, 'health' - сфера здравоохранения, 'services' - гос служба, 'at_home' - не работает, 'other' - другое)\n",
    "11. reason — причина выбора школы ('home' - близость к дому, 'reputation' - репутация школы, 'course' - образовательная программа, 'other' - другое)\n",
    "12. guardian — опекун ('mother' - мать, 'father' - отец, 'other' - другое)\n",
    "13. traveltime — время в пути до школы (1 - <15 мин., 2 - 15-30 мин., 3 - 30-60 мин., 4 - >60 мин.)\n",
    "14. studytime — время на учёбу помимо школы в неделю (1 - <2 часов, 2 - 2-5 часов, 3 - 5-10 часов, 4 - >10 часов)\n",
    "15. failures — количество внеучебных неудач (n, если 1<=n<=3, иначе 0)\n",
    "16. schoolsup — дополнительная образовательная поддержка (yes или no)\n",
    "17. famsup — семейная образовательная поддержка (yes или no)\n",
    "18. paid — дополнительные платные занятия по математике (yes или no)\n",
    "19. activities — дополнительные внеучебные занятия (yes или no)\n",
    "20. nursery — посещал детский сад (yes или no)\n",
    "21. higher — хочет получить высшее образование (yes или no)\n",
    "22. internet — наличие интернета дома (yes или no)\n",
    "23. romantic — в романтических отношениях (yes или no)\n",
    "24. famrel — семейные отношения (от 1 - очень плохо до 5 - очень хорошо)\n",
    "25. freetime — свободное время после школы (от 1 - очень мало до 5 - очень мого)\n",
    "26. goout — проведение времени с друзьями (от 1 - очень мало до 5 - очень много)\n",
    "27. health — текущее состояние здоровья (от 1 - очень плохо до 5 - очень хорошо)\n",
    "28. absences — количество пропущенных занятий\n",
    "29. score — баллы по госэкзамену по математике"
   ]
  },
  {
   "cell_type": "code",
   "execution_count": 3,
   "metadata": {},
   "outputs": [
    {
     "data": {
      "text/plain": [
       "0     -6.0\n",
       "1     -6.0\n",
       "2     -6.0\n",
       "3     -9.0\n",
       "4     -6.0\n",
       "      ... \n",
       "390   -6.0\n",
       "391   -3.0\n",
       "392   -3.0\n",
       "393   -3.0\n",
       "394   -3.0\n",
       "Name: studytime, granular, Length: 395, dtype: float64"
      ]
     },
     "execution_count": 3,
     "metadata": {},
     "output_type": "execute_result"
    }
   ],
   "source": [
    "stud_math['studytime, granular']"
   ]
  },
  {
   "cell_type": "code",
   "execution_count": 4,
   "metadata": {},
   "outputs": [
    {
     "data": {
      "text/plain": [
       "0      2.0\n",
       "1      2.0\n",
       "2      2.0\n",
       "3      3.0\n",
       "4      2.0\n",
       "      ... \n",
       "390    2.0\n",
       "391    1.0\n",
       "392    1.0\n",
       "393    1.0\n",
       "394    1.0\n",
       "Name: studytime, Length: 395, dtype: float64"
      ]
     },
     "execution_count": 4,
     "metadata": {},
     "output_type": "execute_result"
    }
   ],
   "source": [
    "stud_math.studytime"
   ]
  },
  {
   "cell_type": "code",
   "execution_count": 5,
   "metadata": {},
   "outputs": [
    {
     "data": {
      "text/plain": [
       "<AxesSubplot:title={'center':'Время на учебу вне школы'}, xlabel='studytime, granular', ylabel='studytime'>"
      ]
     },
     "execution_count": 5,
     "metadata": {},
     "output_type": "execute_result"
    },
    {
     "data": {
      "image/png": "[encoded data removed]",
      "text/plain": [
       "<Figure size 432x288 with 1 Axes>"
      ]
     },
     "metadata": {
      "needs_background": "light"
     },
     "output_type": "display_data"
    }
   ],
   "source": [
    "stud_math.plot(x = 'studytime, granular', \n",
    "        y = 'studytime', \n",
    "        kind = 'scatter', \n",
    "        grid = True, \n",
    "        title = 'Время на учебу вне школы')"
   ]
  },
  {
   "cell_type": "code",
   "execution_count": 125,
   "metadata": {},
   "outputs": [
    {
     "data": {
      "text/plain": [
       "2.0    194\n",
       "1.0    103\n",
       "3.0     64\n",
       "4.0     27\n",
       "Name: studytime, dtype: int64"
      ]
     },
     "execution_count": 125,
     "metadata": {},
     "output_type": "execute_result"
    }
   ],
   "source": [
    "stud_math.studytime.value_counts()"
   ]
  },
  {
   "cell_type": "markdown",
   "metadata": {},
   "source": [
    "# Столбцы $studytime, granular$ и $studytime$ есть ни что иное как одно и тоже, поэтому удаляем из рассмотрение первый столбец"
   ]
  },
  {
   "cell_type": "code",
   "execution_count": 26,
   "metadata": {},
   "outputs": [
    {
     "data": {
      "text/plain": [
       "['school',\n",
       " 'sex',\n",
       " 'age',\n",
       " 'address',\n",
       " 'famsize',\n",
       " 'Pstatus',\n",
       " 'Medu',\n",
       " 'Fedu',\n",
       " 'Mjob',\n",
       " 'Fjob',\n",
       " 'reason',\n",
       " 'guardian',\n",
       " 'traveltime',\n",
       " 'studytime',\n",
       " 'failures',\n",
       " 'schoolsup',\n",
       " 'famsup',\n",
       " 'paid',\n",
       " 'activities',\n",
       " 'nursery',\n",
       " 'higher',\n",
       " 'internet',\n",
       " 'romantic',\n",
       " 'famrel',\n",
       " 'freetime',\n",
       " 'goout',\n",
       " 'health',\n",
       " 'absences',\n",
       " 'score']"
      ]
     },
     "execution_count": 26,
     "metadata": {},
     "output_type": "execute_result"
    }
   ],
   "source": [
    "stud_math.drop(['studytime, granular'], inplace = True, axis = 1)\n",
    "list_stud = stud_math.columns.to_list()\n",
    "list_stud"
   ]
  },
  {
   "cell_type": "code",
   "execution_count": 4,
   "metadata": {},
   "outputs": [],
   "source": [
    "def chek_value_counts(column):\n",
    "    a = str(stud_math[column].dtype)\n",
    "    if a=='object':\n",
    "        stud_math[column] = stud_math[column].apply(lambda x: str(x).replace('NaN', ''))\n",
    "    else:\n",
    "        stud_math[column] =  stud_math[column].apply(lambda x: float(str(x).replace('NaN', '')))\n",
    "    if 'nan' in stud_math[column].value_counts().index:\n",
    "        print(column,'nan',round(stud_math[column].value_counts()['nan']*100/395.0,1),\"%\")\n"
   ]
  },
  {
   "cell_type": "code",
   "execution_count": 8,
   "metadata": {
    "scrolled": true
   },
   "outputs": [
    {
     "name": "stdout",
     "output_type": "stream",
     "text": [
      "address nan 4.3 %\n",
      "famsize nan 6.8 %\n",
      "Pstatus nan 11.4 %\n",
      "Mjob nan 4.8 %\n",
      "Fjob nan 9.1 %\n",
      "reason nan 4.3 %\n",
      "guardian nan 7.8 %\n",
      "schoolsup nan 2.3 %\n",
      "famsup nan 9.9 %\n",
      "paid nan 10.1 %\n",
      "activities nan 3.5 %\n",
      "nursery nan 4.1 %\n",
      "higher nan 5.1 %\n",
      "internet nan 8.6 %\n",
      "romantic nan 7.8 %\n"
     ]
    }
   ],
   "source": [
    "for i in list_stud:\n",
    "    chek_value_counts(i)"
   ]
  },
  {
   "cell_type": "markdown",
   "metadata": {},
   "source": [
    "# Пропусков по столбцу не более 10% от общего числа(395)\n",
    "# Так как пропуски разбросаны произвольно по данным, то их удаление приведет к полной потери всех данных. Будем заменять на некоторые значения. Отметим , что пропуски содержат ТОЛЬКО категориальные данные (не числовые)"
   ]
  },
  {
   "cell_type": "code",
   "execution_count": 19,
   "metadata": {},
   "outputs": [
    {
     "name": "stdout",
     "output_type": "stream",
     "text": [
      "school ['GP', 'MS']\n",
      "sex ['F', 'M']\n",
      "age [16.0, 17.0, 15.0, 18.0, 19.0, 20.0, 21.0, 22.0]\n",
      "address ['U', 'R']\n",
      "famsize ['GT3', 'LE3', 'nan']\n",
      "Pstatus ['T', 'nan', 'A']\n",
      "Medu [4.0, 2.0, 3.0, 1.0, 0.0]\n",
      "Fedu [2.0, 3.0, 4.0, 1.0, 0.0, 40.0]\n",
      "Mjob ['other', 'services', 'at_home', 'teacher', 'health', 'nan']\n",
      "Fjob ['other', 'services', 'nan', 'teacher', 'at_home', 'health']\n",
      "reason ['course', 'home', 'reputation', 'other', 'nan']\n",
      "guardian ['mother', 'father', 'nan', 'other']\n",
      "traveltime [1.0, 2.0, 3.0, 4.0]\n",
      "studytime [2.0, 1.0, 3.0, 4.0]\n",
      "failures [0.0, 1.0, 2.0, 3.0]\n",
      "schoolsup ['no', 'yes', 'nan']\n",
      "famsup ['yes', 'no', 'nan']\n",
      "paid ['no', 'yes', 'nan']\n",
      "activities ['yes', 'no', 'nan']\n",
      "nursery ['yes', 'no', 'nan']\n",
      "higher ['yes', 'nan', 'no']\n",
      "internet ['yes', 'no', 'nan']\n",
      "romantic ['no', 'yes', 'nan']\n",
      "famrel [4.0, 5.0, 3.0, 2.0, 1.0, -1.0]\n",
      "freetime [3.0, 4.0, 2.0, 5.0, 1.0]\n",
      "goout [3.0, 2.0, 4.0, 5.0, 1.0]\n",
      "health [5.0, 3.0, 4.0, 1.0, 2.0]\n",
      "absences [0.0, 2.0, 4.0, 6.0, 8.0, 10.0, 12.0, 14.0, 3.0, 16.0, 7.0, 5.0, 18.0, 20.0, 22.0, 9.0, 1.0, 15.0, 13.0, 11.0, 25.0, 54.0, 385.0, 26.0, 56.0, 24.0, 212.0, 21.0, 75.0, 30.0, 19.0, 38.0, 40.0, 23.0, 17.0, 28.0]\n",
      "score [50.0, 55.0, 0.0, 75.0, 65.0, 40.0, 60.0, 70.0, 45.0, 80.0, 30.0, 90.0, 35.0, 25.0, 85.0, 95.0, 100.0, 20.0]\n"
     ]
    }
   ],
   "source": [
    "for i in list_stud:\n",
    "    print(i,stud_math[i].value_counts().index.to_list())"
   ]
  },
  {
   "cell_type": "markdown",
   "metadata": {},
   "source": [
    "# Воспользуемся модой для тех не числовых данных где стоит выбор \"да\" или \"нет\""
   ]
  },
  {
   "cell_type": "code",
   "execution_count": 10,
   "metadata": {},
   "outputs": [
    {
     "data": {
      "text/plain": [
       "U      295\n",
       "R       83\n",
       "nan     17\n",
       "Name: address, dtype: int64"
      ]
     },
     "execution_count": 10,
     "metadata": {},
     "output_type": "execute_result"
    }
   ],
   "source": [
    "stud_math.address.value_counts()"
   ]
  },
  {
   "cell_type": "code",
   "execution_count": 5,
   "metadata": {},
   "outputs": [],
   "source": [
    "stud_math.address = stud_math.address.apply(lambda x: stud_math.address.value_counts().index[0] if x == 'nan' else x)"
   ]
  },
  {
   "cell_type": "code",
   "execution_count": 12,
   "metadata": {
    "scrolled": true
   },
   "outputs": [
    {
     "data": {
      "text/plain": [
       "U    312\n",
       "R     83\n",
       "Name: address, dtype: int64"
      ]
     },
     "execution_count": 12,
     "metadata": {},
     "output_type": "execute_result"
    }
   ],
   "source": [
    "stud_math.address.value_counts()"
   ]
  },
  {
   "cell_type": "markdown",
   "metadata": {},
   "source": [
    "Из приведенных выше данных видно, что параметр yes и no в некоторых одного порядка, поэтому в этом случае мы не можем однозначно заменить nan на моду. Поэтому сделаем так: Если мода занимает 70% всех бинарных данных, то мы заменяем nan на моду. Что делать с остальными посмотрим дальше на графиках."
   ]
  },
  {
   "cell_type": "code",
   "execution_count": 6,
   "metadata": {
    "scrolled": true
   },
   "outputs": [
    {
     "name": "stdout",
     "output_type": "stream",
     "text": [
      "famsize min составляет  0.4099616858237548 от мах\n",
      "famsup min составляет  0.6255707762557078 от мах\n",
      "paid min составляет  0.775 от мах\n",
      "activities min составляет  0.9538461538461539 от мах\n",
      "romantic min составляет  0.5166666666666667 от мах\n"
     ]
    }
   ],
   "source": [
    "for i in ['famsize','Pstatus','schoolsup','famsup','paid','activities','nursery','higher','internet','romantic']:\n",
    "    #print(i,stud_math[i].value_counts(),stud_math[i].value_counts()[1]/stud_math[i].value_counts()[0],'от мах')\n",
    "    a = stud_math[i].value_counts()[1]/stud_math[i].value_counts()[0]\n",
    "    if a < 0.3:\n",
    "        stud_math[i] = stud_math[i].apply(lambda x: stud_math[i].value_counts().index[0] if x == 'nan' else x)\n",
    "    else:\n",
    "        print(i,'min составляет ',a,'от мах')\n",
    "       # print(stud_math[i].value_counts())"
   ]
  },
  {
   "cell_type": "markdown",
   "metadata": {},
   "source": [
    "# параметр activities дополнительные внеучебные занятия имеют распределение 50%50, поэтому вклад в анализ они должны дать одинаковый, поэтому логичнее удалить эти выбросы"
   ]
  },
  {
   "cell_type": "code",
   "execution_count": 33,
   "metadata": {},
   "outputs": [
    {
     "data": {
      "text/plain": [
       "yes    195\n",
       "no     186\n",
       "nan     14\n",
       "Name: activities, dtype: int64"
      ]
     },
     "execution_count": 33,
     "metadata": {},
     "output_type": "execute_result"
    }
   ],
   "source": [
    "stud_math.activities.value_counts()"
   ]
  },
  {
   "cell_type": "code",
   "execution_count": 7,
   "metadata": {},
   "outputs": [
    {
     "data": {
      "text/plain": [
       "yes    195\n",
       "no     186\n",
       "Name: activities, dtype: int64"
      ]
     },
     "execution_count": 7,
     "metadata": {},
     "output_type": "execute_result"
    }
   ],
   "source": [
    "stud_math.activities = stud_math.activities.apply(lambda x: None if x == 'nan' else x)\n",
    "stud_math.activities.value_counts()"
   ]
  },
  {
   "cell_type": "code",
   "execution_count": 40,
   "metadata": {},
   "outputs": [
    {
     "name": "stdout",
     "output_type": "stream",
     "text": [
      "GT3    261\n",
      "LE3    107\n",
      "nan     27\n",
      "Name: famsize, dtype: int64\n",
      "yes    219\n",
      "no     137\n",
      "nan     39\n",
      "Name: famsup, dtype: int64\n",
      "no     200\n",
      "yes    155\n",
      "nan     40\n",
      "Name: paid, dtype: int64\n",
      "no     240\n",
      "yes    124\n",
      "nan     31\n",
      "Name: romantic, dtype: int64\n"
     ]
    }
   ],
   "source": [
    "for i in ['famsize','famsup','paid','romantic']:\n",
    "    print(stud_math[i].value_counts())\n",
    "# 5 famsize — размер семьи('LE3' <= 3, 'GT3' >3)\n",
    "# 17 famsup — семейная образовательная поддержка (yes или no)\n",
    "# 18 paid — дополнительные платные занятия по математике (yes или no)\n",
    "# 23 romantic — в романтических отношениях (yes или no)"
   ]
  },
  {
   "cell_type": "markdown",
   "metadata": {},
   "source": [
    "Пусть nan также равны моде"
   ]
  },
  {
   "cell_type": "code",
   "execution_count": 8,
   "metadata": {},
   "outputs": [],
   "source": [
    "for i in ['famsize','famsup','paid','romantic']:\n",
    "    stud_math[i] = stud_math[i].apply(lambda x: stud_math[i].value_counts().index[0] if x == 'nan' else x)\n"
   ]
  },
  {
   "cell_type": "markdown",
   "metadata": {},
   "source": [
    "# Рассмотрим теперь категориальные данные в которых больше 2-х вариантов: \n",
    "1. Mjob  работа матери ('teacher' - учитель, 'health' - сфера здравоохранения, 'services' - гос служба, 'at_home' - не работает, 'other' - другое)\n",
    "2. Fjob работа отца ('teacher' - учитель, 'health' - сфера здравоохранения, 'services' - гос служба, 'at_home' - не работает, 'other' - другое)\n",
    "3. reason причина выбора школы ('home' - близость к дому, 'reputation' - репутация школы, 'course' - образовательная программа, 'other' - другое)\n",
    "4. guardian  опекун ('mother' - мать, 'father' - отец, 'other' - другое)\n",
    "\n",
    "Судя по описанию(и по построению) большая часть данных относиться к other. Потому, логичнее все nan отнести к этой категории"
   ]
  },
  {
   "cell_type": "code",
   "execution_count": 9,
   "metadata": {},
   "outputs": [],
   "source": [
    "stud_math.Mjob = stud_math.Mjob.apply(lambda x: 'other' if x == 'nan' else x)\n",
    "stud_math.Fjob = stud_math.Fjob.apply(lambda x: 'other' if x == 'nan' else x)\n",
    "stud_math.reason = stud_math.reason.apply(lambda x: 'other' if x == 'nan' else x)\n",
    "stud_math.guardian = stud_math.guardian.apply(lambda x: 'other' if x == 'nan' else x)"
   ]
  },
  {
   "cell_type": "markdown",
   "metadata": {},
   "source": [
    "# Рассмотрим числовые данные. Так  как они не содержат пропусков, то проверим на адекватность значений(в широком смысле)"
   ]
  },
  {
   "cell_type": "code",
   "execution_count": 10,
   "metadata": {},
   "outputs": [],
   "source": [
    "# age [16.0, 17.0, 15.0, 18.0, 19.0, 20.0, 21.0, 22.0]\n",
    "# Medu [4.0, 2.0, 3.0, 1.0, 0.0]\n",
    "# Fedu [2.0, 3.0, 4.0, 1.0, 0.0, 40.0]\n",
    "# traveltime [1.0, 2.0, 3.0, 4.0]\n",
    "# studytime [2.0, 1.0, 3.0, 4.0]\n",
    "# failures [0.0, 1.0, 2.0, 3.0]\n",
    "# famrel [4.0, 5.0, 3.0, 2.0, 1.0, -1.0]\n",
    "# freetime [3.0, 4.0, 2.0, 5.0, 1.0]\n",
    "# goout [3.0, 2.0, 4.0, 5.0, 1.0]\n",
    "# health [5.0, 3.0, 4.0, 1.0, 2.0]\n",
    "# absences [0.0, 2.0, 4.0, 6.0, 8.0, 10.0, 12.0, 14.0, 3.0, 16.0, 7.0, 5.0, 18.0, 20.0, 22.0, 9.0, 1.0, 15.0, 13.0, 11.0, 25.0, 54.0, 385.0, 26.0, 56.0, 24.0, 212.0, 21.0, 75.0, 30.0, 19.0, 38.0, 40.0, 23.0, 17.0, 28.0]\n",
    "# score [50.0, 55.0, 0.0, 75.0, 65.0, 40.0, 60.0, 70.0, 45.0, 80.0, 30.0, 90.0, 35.0, 25.0, 85.0, 95.0, 100.0, 20.0]\n",
    "list_val=['age','Medu','Fedu','traveltime','studytime','failures','famrel','freetime','goout','health','absences','score']\n",
    "# 3 age — возраст ученика (от 15 до 22)\n",
    "# 7 Medu — образование матери (0 - нет, 1 - 4 класса, 2 - 5-9 классы, 3 - среднее специальное или 11 классов, 4 - высшее)\n",
    "# 8 Fedu — образование отца (0 - нет, 1 - 4 класса, 2 - 5-9 классы, 3 - среднее специальное или 11 классов, 4 - высшее)\n",
    "# 13 traveltime — время в пути до школы (1 - <15 мин., 2 - 15-30 мин., 3 - 30-60 мин., 4 - >60 мин.)\n",
    "# 14 studytime — время на учёбу помимо школы в неделю (1 - <2 часов, 2 - 2-5 часов, 3 - 5-10 часов, 4 - >10 часов)\n",
    "# 15 failures — количество внеучебных неудач (n, если 1<=n<=3, иначе 0)\n",
    "# 24 famrel — семейные отношения (от 1 - очень плохо до 5 - очень хорошо)\n",
    "# 25 freetime — свободное время после школы (от 1 - очень мало до 5 - очень мого)\n",
    "# 26 goout — проведение времени с друзьями (от 1 - очень мало до 5 - очень много)\n",
    "# 27 health — текущее состояние здоровья (от 1 - очень плохо до 5 - очень хорошо)\n",
    "# 28 absences — количество пропущенных занятий\n",
    "# 29 score — баллы по госэкзамену по математи\n"
   ]
  },
  {
   "cell_type": "markdown",
   "metadata": {},
   "source": [
    "# Параметр FEDU имеет значение 40, видимо опечатка. Посмотрим сколько таких значений"
   ]
  },
  {
   "cell_type": "code",
   "execution_count": 81,
   "metadata": {},
   "outputs": [
    {
     "data": {
      "text/plain": [
       "2.0     106\n",
       "3.0      96\n",
       "4.0      88\n",
       "1.0      78\n",
       "0.0       2\n",
       "40.0      1\n",
       "Name: Fedu, dtype: int64"
      ]
     },
     "execution_count": 81,
     "metadata": {},
     "output_type": "execute_result"
    }
   ],
   "source": [
    "stud_math.Fedu.value_counts()"
   ]
  },
  {
   "cell_type": "markdown",
   "metadata": {},
   "source": [
    "# Такое значение единственно. Можем удалить, а можем подумать, что вместе 4 записали 40. Воспользуемся вторым вариантом"
   ]
  },
  {
   "cell_type": "code",
   "execution_count": 11,
   "metadata": {},
   "outputs": [],
   "source": [
    "stud_math.Fedu = stud_math.Fedu.apply(lambda x: 4 if x == 40 else x)"
   ]
  },
  {
   "cell_type": "markdown",
   "metadata": {},
   "source": [
    "# Посмотрим также отдельно на параметр famrel"
   ]
  },
  {
   "cell_type": "code",
   "execution_count": 84,
   "metadata": {},
   "outputs": [
    {
     "data": {
      "text/plain": [
       " 4.0    182\n",
       " 5.0     99\n",
       " 3.0     62\n",
       " 2.0     17\n",
       " 1.0      7\n",
       "-1.0      1\n",
       "Name: famrel, dtype: int64"
      ]
     },
     "execution_count": 84,
     "metadata": {},
     "output_type": "execute_result"
    }
   ],
   "source": [
    "stud_math.famrel.value_counts()"
   ]
  },
  {
   "cell_type": "markdown",
   "metadata": {},
   "source": [
    "### Также видим присутсвует одно отрицательное значение: либо удаляем, либо при записи вместо +1 было написано -1. Воспользуемся вторым способом, поскольку как и в первом случае добавления одно наблюдения на выборку не влияет(данный параметр либо самый большой среди всех либо самый маленький как для этого параметра)"
   ]
  },
  {
   "cell_type": "code",
   "execution_count": 12,
   "metadata": {},
   "outputs": [],
   "source": [
    "stud_math.famrel = stud_math.famrel.apply(lambda x: 1.0 if x == -1.0 else x)"
   ]
  },
  {
   "cell_type": "code",
   "execution_count": 13,
   "metadata": {},
   "outputs": [
    {
     "data": {
      "image/png": "[encoded data removed]",
      "text/plain": [
       "<Figure size 1080x1080 with 12 Axes>"
      ]
     },
     "metadata": {
      "needs_background": "light"
     },
     "output_type": "display_data"
    }
   ],
   "source": [
    "fig, axes = plt.subplots(4,3,figsize=(15,15))\n",
    "count=0\n",
    "for i in list_val:\n",
    "    axes[count//3][count - (count//3)*3].hist(stud_math[i], color='red',bins=20)\n",
    "    axes[count//3][count - (count//3)*3].set_title(i)\n",
    "    count+=1"
   ]
  },
  {
   "cell_type": "markdown",
   "metadata": {},
   "source": [
    "### Так как диапоз распределения числовых параметров очень мал, то считать интерквартальный размах не имеет смысла. Однако стоить обратить внимание на параметр посещения занятий absences. "
   ]
  },
  {
   "cell_type": "code",
   "execution_count": 89,
   "metadata": {
    "scrolled": true
   },
   "outputs": [
    {
     "data": {
      "text/plain": [
       "0.0      111\n",
       "2.0       60\n",
       "4.0       53\n",
       "6.0       31\n",
       "8.0       21\n",
       "10.0      17\n",
       "12.0      12\n",
       "14.0      12\n",
       "3.0        8\n",
       "16.0       7\n",
       "7.0        6\n",
       "5.0        5\n",
       "18.0       5\n",
       "20.0       4\n",
       "22.0       3\n",
       "9.0        3\n",
       "1.0        3\n",
       "15.0       2\n",
       "13.0       2\n",
       "11.0       2\n",
       "25.0       1\n",
       "54.0       1\n",
       "385.0      1\n",
       "26.0       1\n",
       "56.0       1\n",
       "24.0       1\n",
       "212.0      1\n",
       "21.0       1\n",
       "75.0       1\n",
       "30.0       1\n",
       "19.0       1\n",
       "38.0       1\n",
       "40.0       1\n",
       "23.0       1\n",
       "17.0       1\n",
       "28.0       1\n",
       "Name: absences, dtype: int64"
      ]
     },
     "execution_count": 89,
     "metadata": {},
     "output_type": "execute_result"
    }
   ],
   "source": [
    "stud_math.absences.value_counts()"
   ]
  },
  {
   "cell_type": "markdown",
   "metadata": {},
   "source": [
    "# Удалим из столбца score тех учеников которые не набрали вообще баллов. То есть не пришли на экзамен."
   ]
  },
  {
   "cell_type": "code",
   "execution_count": 33,
   "metadata": {
    "scrolled": true
   },
   "outputs": [
    {
     "data": {
      "text/plain": [
       "50.0     53\n",
       "55.0     42\n",
       "0.0      36\n",
       "75.0     31\n",
       "65.0     30\n",
       "60.0     29\n",
       "70.0     27\n",
       "40.0     26\n",
       "45.0     23\n",
       "80.0     16\n",
       "30.0     14\n",
       "35.0      9\n",
       "90.0      9\n",
       "25.0      7\n",
       "95.0      5\n",
       "85.0      3\n",
       "100.0     1\n",
       "Name: score, dtype: int64"
      ]
     },
     "execution_count": 33,
     "metadata": {},
     "output_type": "execute_result"
    }
   ],
   "source": [
    "stud_math.score.value_counts()"
   ]
  },
  {
   "cell_type": "code",
   "execution_count": 34,
   "metadata": {},
   "outputs": [],
   "source": [
    "stud_math.score = stud_math.score.apply(lambda x: None if x == 0 else x)"
   ]
  },
  {
   "cell_type": "code",
   "execution_count": 35,
   "metadata": {},
   "outputs": [
    {
     "data": {
      "text/plain": [
       "50.0     53\n",
       "55.0     42\n",
       "75.0     31\n",
       "65.0     30\n",
       "60.0     29\n",
       "70.0     27\n",
       "40.0     26\n",
       "45.0     23\n",
       "80.0     16\n",
       "30.0     14\n",
       "35.0      9\n",
       "90.0      9\n",
       "25.0      7\n",
       "95.0      5\n",
       "85.0      3\n",
       "100.0     1\n",
       "Name: score, dtype: int64"
      ]
     },
     "execution_count": 35,
     "metadata": {},
     "output_type": "execute_result"
    }
   ],
   "source": [
    "stud_math.score.value_counts()"
   ]
  },
  {
   "cell_type": "markdown",
   "metadata": {},
   "source": [
    "### Есть два ученика которые  не посещали  занятий (возможно болел или прогуливал). Однако если посмотреть на гистограмму здоровья, то тех кто болеет(или в плохом состоянии..всегда повышенная температура) явно больше 2-х, поэтому корреляции не должно быть. Поэтому удаляем этих учеников из рассмотрения данных"
   ]
  },
  {
   "cell_type": "code",
   "execution_count": 36,
   "metadata": {},
   "outputs": [],
   "source": [
    "stud_math.absences = stud_math.absences.apply(lambda x: None if x > 200 else x)"
   ]
  },
  {
   "cell_type": "code",
   "execution_count": 37,
   "metadata": {},
   "outputs": [
    {
     "data": {
      "text/plain": [
       "<AxesSubplot:ylabel='Frequency'>"
      ]
     },
     "execution_count": 37,
     "metadata": {},
     "output_type": "execute_result"
    },
    {
     "data": {
      "image/png": "[encoded data removed]",
      "text/plain": [
       "<Figure size 432x288 with 1 Axes>"
      ]
     },
     "metadata": {
      "needs_background": "light"
     },
     "output_type": "display_data"
    }
   ],
   "source": [
    "stud_math.absences.plot(kind='hist')"
   ]
  },
  {
   "cell_type": "code",
   "execution_count": 38,
   "metadata": {},
   "outputs": [
    {
     "data": {
      "text/plain": [
       "4.0"
      ]
     },
     "execution_count": 38,
     "metadata": {},
     "output_type": "execute_result"
    }
   ],
   "source": [
    "stud_math.absences.median()"
   ]
  },
  {
   "cell_type": "code",
   "execution_count": 39,
   "metadata": {},
   "outputs": [
    {
     "data": {
      "text/plain": [
       "4.603825136612022"
      ]
     },
     "execution_count": 39,
     "metadata": {},
     "output_type": "execute_result"
    }
   ],
   "source": [
    "stud_math.absences.mean()"
   ]
  },
  {
   "cell_type": "markdown",
   "metadata": {},
   "source": [
    "### Реальных прогульщиков мало. Чтобы оценить вклад корреляцию сделаем в два этапа: полная выборка и выборка в пределах интерквартального размаха"
   ]
  },
  {
   "cell_type": "code",
   "execution_count": 40,
   "metadata": {},
   "outputs": [
    {
     "data": {
      "text/plain": [
       "<AxesSubplot:title={'center':'полная корреляция с данными пропусков занятий'}, xlabel='absences', ylabel='score'>"
      ]
     },
     "execution_count": 40,
     "metadata": {},
     "output_type": "execute_result"
    },
    {
     "data": {
      "image/png": "[encoded data removed]",
      "text/plain": [
       "<Figure size 432x288 with 1 Axes>"
      ]
     },
     "metadata": {
      "needs_background": "light"
     },
     "output_type": "display_data"
    }
   ],
   "source": [
    "stud_math.plot(x = 'absences', \n",
    "        y = 'score', \n",
    "        kind = 'scatter', \n",
    "        grid = True, \n",
    "        title = 'полная корреляция с данными пропусков занятий')"
   ]
  },
  {
   "cell_type": "markdown",
   "metadata": {},
   "source": [
    "# Видим отсутсвие корреляции между оценкой и количеством пропусков. Наверное всетаки связь должна быть. Оставим из всех данных только те которые попали в межквартальный размах"
   ]
  },
  {
   "cell_type": "code",
   "execution_count": 41,
   "metadata": {},
   "outputs": [
    {
     "data": {
      "image/png": "[encoded data removed]",
      "text/plain": [
       "<Figure size 432x288 with 1 Axes>"
      ]
     },
     "metadata": {
      "needs_background": "light"
     },
     "output_type": "display_data"
    }
   ],
   "source": [
    "IQR = stud_math.absences.quantile(0.75) - stud_math.absences.quantile(0.25)\n",
    "perc75 = stud_math.absences.quantile(0.75)\n",
    "stud_math.absences.loc[stud_math.absences.between(0, perc75 + 1.5*IQR)].hist(bins = 10, range = (0, 10), label = 'IQR')\n",
    " \n",
    "plt.legend();"
   ]
  },
  {
   "cell_type": "code",
   "execution_count": 42,
   "metadata": {},
   "outputs": [],
   "source": [
    "stud_math = stud_math.loc[stud_math.absences.between(0, perc75 + 1.5*IQR)]"
   ]
  },
  {
   "cell_type": "code",
   "execution_count": 43,
   "metadata": {},
   "outputs": [
    {
     "data": {
      "text/plain": [
       "<AxesSubplot:title={'center':'IQR корреляция с данными пропусков занятий'}, xlabel='absences', ylabel='score'>"
      ]
     },
     "execution_count": 43,
     "metadata": {},
     "output_type": "execute_result"
    },
    {
     "data": {
      "image/png": "[encoded data removed]",
      "text/plain": [
       "<Figure size 432x288 with 1 Axes>"
      ]
     },
     "metadata": {
      "needs_background": "light"
     },
     "output_type": "display_data"
    }
   ],
   "source": [
    "stud_math.plot(x = 'absences', \n",
    "        y = 'score', \n",
    "        kind = 'scatter', \n",
    "        grid = True, \n",
    "        title = 'IQR корреляция с данными пропусков занятий')"
   ]
  },
  {
   "cell_type": "code",
   "execution_count": 44,
   "metadata": {},
   "outputs": [
    {
     "data": {
      "text/html": [
       "<div>\n",
       "<style scoped>\n",
       "    .dataframe tbody tr th:only-of-type {\n",
       "        vertical-align: middle;\n",
       "    }\n",
       "\n",
       "    .dataframe tbody tr th {\n",
       "        vertical-align: top;\n",
       "    }\n",
       "\n",
       "    .dataframe thead th {\n",
       "        text-align: right;\n",
       "    }\n",
       "</style>\n",
       "<table border=\"1\" class=\"dataframe\">\n",
       "  <thead>\n",
       "    <tr style=\"text-align: right;\">\n",
       "      <th></th>\n",
       "      <th>age</th>\n",
       "      <th>Medu</th>\n",
       "      <th>Fedu</th>\n",
       "      <th>traveltime</th>\n",
       "      <th>studytime</th>\n",
       "      <th>failures</th>\n",
       "      <th>famrel</th>\n",
       "      <th>freetime</th>\n",
       "      <th>goout</th>\n",
       "      <th>health</th>\n",
       "      <th>absences</th>\n",
       "      <th>score</th>\n",
       "    </tr>\n",
       "  </thead>\n",
       "  <tbody>\n",
       "    <tr>\n",
       "      <th>age</th>\n",
       "      <td>1.000000</td>\n",
       "      <td>-0.176166</td>\n",
       "      <td>-0.179298</td>\n",
       "      <td>0.079718</td>\n",
       "      <td>0.002361</td>\n",
       "      <td>0.188469</td>\n",
       "      <td>0.065932</td>\n",
       "      <td>0.053840</td>\n",
       "      <td>0.143414</td>\n",
       "      <td>-0.053499</td>\n",
       "      <td>0.133402</td>\n",
       "      <td>-0.139604</td>\n",
       "    </tr>\n",
       "    <tr>\n",
       "      <th>Medu</th>\n",
       "      <td>-0.176166</td>\n",
       "      <td>1.000000</td>\n",
       "      <td>0.624306</td>\n",
       "      <td>-0.188717</td>\n",
       "      <td>0.086941</td>\n",
       "      <td>-0.250007</td>\n",
       "      <td>-0.025040</td>\n",
       "      <td>0.037183</td>\n",
       "      <td>0.037888</td>\n",
       "      <td>-0.053162</td>\n",
       "      <td>0.114954</td>\n",
       "      <td>0.187063</td>\n",
       "    </tr>\n",
       "    <tr>\n",
       "      <th>Fedu</th>\n",
       "      <td>-0.179298</td>\n",
       "      <td>0.624306</td>\n",
       "      <td>1.000000</td>\n",
       "      <td>-0.144644</td>\n",
       "      <td>0.003325</td>\n",
       "      <td>-0.297688</td>\n",
       "      <td>-0.033484</td>\n",
       "      <td>-0.001098</td>\n",
       "      <td>0.006291</td>\n",
       "      <td>0.016886</td>\n",
       "      <td>-0.002491</td>\n",
       "      <td>0.133839</td>\n",
       "    </tr>\n",
       "    <tr>\n",
       "      <th>traveltime</th>\n",
       "      <td>0.079718</td>\n",
       "      <td>-0.188717</td>\n",
       "      <td>-0.144644</td>\n",
       "      <td>1.000000</td>\n",
       "      <td>-0.105570</td>\n",
       "      <td>0.085976</td>\n",
       "      <td>-0.017712</td>\n",
       "      <td>0.004449</td>\n",
       "      <td>0.040547</td>\n",
       "      <td>-0.003375</td>\n",
       "      <td>-0.059324</td>\n",
       "      <td>-0.081211</td>\n",
       "    </tr>\n",
       "    <tr>\n",
       "      <th>studytime</th>\n",
       "      <td>0.002361</td>\n",
       "      <td>0.086941</td>\n",
       "      <td>0.003325</td>\n",
       "      <td>-0.105570</td>\n",
       "      <td>1.000000</td>\n",
       "      <td>-0.178612</td>\n",
       "      <td>0.030730</td>\n",
       "      <td>-0.129574</td>\n",
       "      <td>-0.036383</td>\n",
       "      <td>-0.087433</td>\n",
       "      <td>-0.040679</td>\n",
       "      <td>0.143721</td>\n",
       "    </tr>\n",
       "    <tr>\n",
       "      <th>failures</th>\n",
       "      <td>0.188469</td>\n",
       "      <td>-0.250007</td>\n",
       "      <td>-0.297688</td>\n",
       "      <td>0.085976</td>\n",
       "      <td>-0.178612</td>\n",
       "      <td>1.000000</td>\n",
       "      <td>0.006975</td>\n",
       "      <td>0.099402</td>\n",
       "      <td>0.075147</td>\n",
       "      <td>0.090578</td>\n",
       "      <td>0.082480</td>\n",
       "      <td>-0.287503</td>\n",
       "    </tr>\n",
       "    <tr>\n",
       "      <th>famrel</th>\n",
       "      <td>0.065932</td>\n",
       "      <td>-0.025040</td>\n",
       "      <td>-0.033484</td>\n",
       "      <td>-0.017712</td>\n",
       "      <td>0.030730</td>\n",
       "      <td>0.006975</td>\n",
       "      <td>1.000000</td>\n",
       "      <td>0.185001</td>\n",
       "      <td>0.091114</td>\n",
       "      <td>0.085990</td>\n",
       "      <td>-0.084157</td>\n",
       "      <td>0.074065</td>\n",
       "    </tr>\n",
       "    <tr>\n",
       "      <th>freetime</th>\n",
       "      <td>0.053840</td>\n",
       "      <td>0.037183</td>\n",
       "      <td>-0.001098</td>\n",
       "      <td>0.004449</td>\n",
       "      <td>-0.129574</td>\n",
       "      <td>0.099402</td>\n",
       "      <td>0.185001</td>\n",
       "      <td>1.000000</td>\n",
       "      <td>0.299663</td>\n",
       "      <td>0.042757</td>\n",
       "      <td>0.089726</td>\n",
       "      <td>-0.010754</td>\n",
       "    </tr>\n",
       "    <tr>\n",
       "      <th>goout</th>\n",
       "      <td>0.143414</td>\n",
       "      <td>0.037888</td>\n",
       "      <td>0.006291</td>\n",
       "      <td>0.040547</td>\n",
       "      <td>-0.036383</td>\n",
       "      <td>0.075147</td>\n",
       "      <td>0.091114</td>\n",
       "      <td>0.299663</td>\n",
       "      <td>1.000000</td>\n",
       "      <td>-0.002303</td>\n",
       "      <td>0.143495</td>\n",
       "      <td>-0.200476</td>\n",
       "    </tr>\n",
       "    <tr>\n",
       "      <th>health</th>\n",
       "      <td>-0.053499</td>\n",
       "      <td>-0.053162</td>\n",
       "      <td>0.016886</td>\n",
       "      <td>-0.003375</td>\n",
       "      <td>-0.087433</td>\n",
       "      <td>0.090578</td>\n",
       "      <td>0.085990</td>\n",
       "      <td>0.042757</td>\n",
       "      <td>-0.002303</td>\n",
       "      <td>1.000000</td>\n",
       "      <td>-0.040024</td>\n",
       "      <td>-0.054884</td>\n",
       "    </tr>\n",
       "    <tr>\n",
       "      <th>absences</th>\n",
       "      <td>0.133402</td>\n",
       "      <td>0.114954</td>\n",
       "      <td>-0.002491</td>\n",
       "      <td>-0.059324</td>\n",
       "      <td>-0.040679</td>\n",
       "      <td>0.082480</td>\n",
       "      <td>-0.084157</td>\n",
       "      <td>0.089726</td>\n",
       "      <td>0.143495</td>\n",
       "      <td>-0.040024</td>\n",
       "      <td>1.000000</td>\n",
       "      <td>-0.229627</td>\n",
       "    </tr>\n",
       "    <tr>\n",
       "      <th>score</th>\n",
       "      <td>-0.139604</td>\n",
       "      <td>0.187063</td>\n",
       "      <td>0.133839</td>\n",
       "      <td>-0.081211</td>\n",
       "      <td>0.143721</td>\n",
       "      <td>-0.287503</td>\n",
       "      <td>0.074065</td>\n",
       "      <td>-0.010754</td>\n",
       "      <td>-0.200476</td>\n",
       "      <td>-0.054884</td>\n",
       "      <td>-0.229627</td>\n",
       "      <td>1.000000</td>\n",
       "    </tr>\n",
       "  </tbody>\n",
       "</table>\n",
       "</div>"
      ],
      "text/plain": [
       "                 age      Medu      Fedu  traveltime  studytime  failures  \\\n",
       "age         1.000000 -0.176166 -0.179298    0.079718   0.002361  0.188469   \n",
       "Medu       -0.176166  1.000000  0.624306   -0.188717   0.086941 -0.250007   \n",
       "Fedu       -0.179298  0.624306  1.000000   -0.144644   0.003325 -0.297688   \n",
       "traveltime  0.079718 -0.188717 -0.144644    1.000000  -0.105570  0.085976   \n",
       "studytime   0.002361  0.086941  0.003325   -0.105570   1.000000 -0.178612   \n",
       "failures    0.188469 -0.250007 -0.297688    0.085976  -0.178612  1.000000   \n",
       "famrel      0.065932 -0.025040 -0.033484   -0.017712   0.030730  0.006975   \n",
       "freetime    0.053840  0.037183 -0.001098    0.004449  -0.129574  0.099402   \n",
       "goout       0.143414  0.037888  0.006291    0.040547  -0.036383  0.075147   \n",
       "health     -0.053499 -0.053162  0.016886   -0.003375  -0.087433  0.090578   \n",
       "absences    0.133402  0.114954 -0.002491   -0.059324  -0.040679  0.082480   \n",
       "score      -0.139604  0.187063  0.133839   -0.081211   0.143721 -0.287503   \n",
       "\n",
       "              famrel  freetime     goout    health  absences     score  \n",
       "age         0.065932  0.053840  0.143414 -0.053499  0.133402 -0.139604  \n",
       "Medu       -0.025040  0.037183  0.037888 -0.053162  0.114954  0.187063  \n",
       "Fedu       -0.033484 -0.001098  0.006291  0.016886 -0.002491  0.133839  \n",
       "traveltime -0.017712  0.004449  0.040547 -0.003375 -0.059324 -0.081211  \n",
       "studytime   0.030730 -0.129574 -0.036383 -0.087433 -0.040679  0.143721  \n",
       "failures    0.006975  0.099402  0.075147  0.090578  0.082480 -0.287503  \n",
       "famrel      1.000000  0.185001  0.091114  0.085990 -0.084157  0.074065  \n",
       "freetime    0.185001  1.000000  0.299663  0.042757  0.089726 -0.010754  \n",
       "goout       0.091114  0.299663  1.000000 -0.002303  0.143495 -0.200476  \n",
       "health      0.085990  0.042757 -0.002303  1.000000 -0.040024 -0.054884  \n",
       "absences   -0.084157  0.089726  0.143495 -0.040024  1.000000 -0.229627  \n",
       "score       0.074065 -0.010754 -0.200476 -0.054884 -0.229627  1.000000  "
      ]
     },
     "execution_count": 44,
     "metadata": {},
     "output_type": "execute_result"
    }
   ],
   "source": [
    "stud_math.corr()"
   ]
  },
  {
   "cell_type": "markdown",
   "metadata": {},
   "source": [
    "Общий вывод: нет сколлерированных параметров(зависимых параметров), однако и связь параметров на итоговое значение score также мало. Наиболее значимые параметры это age(возраст, причем обратная корреляция),Medu(образование матери),образование отца в 2раза меньше, studytime (внеучебные занятия) и failures (неудачи)\n",
    "Как мы видим параметры возраст и неудачи дают обратную связь, то есть занижают оценку score. Неудачи - чем больше было неудачь, тем меньше мотивация ученика и соотвесвенно его оценка на экзамене. Возраст дает в два раза меньший отклик, а интерпритация его в том, что чем старше человек, тем он ленивее ..вот и плохая оценка. На самом деле здесь эти два параметра имеют связь 0,19, однако эта связь не очень большая и поэтому можно оставить эти два параметра как независимые друг от друга.\n",
    "Также есть параметр goout (проведение время с друзьями)\n",
    "Параметр absences(пропуски занятий) - несмотря на то что графики показывают отсуствие линйной связи, корелляция незнаничельная но есть.\n",
    "ПС По идее если коэффициент меньше 50% то для некоторых задач эти параметры не будут давать никакого вклада\n",
    "\n",
    "Также стоит обратить внимание что параметры образование отца и матери коррелируют друг с другом, поэтому оставляем только один из них."
   ]
  },
  {
   "cell_type": "markdown",
   "metadata": {},
   "source": [
    "# рассмотрим вклад качественных данных на параметр score"
   ]
  },
  {
   "cell_type": "code",
   "execution_count": 45,
   "metadata": {},
   "outputs": [],
   "source": [
    "def get_boxplot(column):\n",
    "    fig, ax = plt.subplots(figsize = (14, 4))\n",
    "    sns.boxplot(x=column, y='score', \n",
    "                data=stud_math.loc[stud_math.loc[:, column].isin(stud_math.loc[:, column].value_counts().index[:])],\n",
    "                # взять первые строки после поиска уникальных значений\n",
    "               ax=ax)\n",
    "    plt.xticks(rotation=45)\n",
    "    ax.set_title('Boxplot for ' + column)\n",
    "    plt.show()"
   ]
  },
  {
   "cell_type": "code",
   "execution_count": 46,
   "metadata": {},
   "outputs": [
    {
     "data": {
      "image/png": "[encoded data removed]",
      "text/plain": [
       "<Figure size 1008x288 with 1 Axes>"
      ]
     },
     "metadata": {
      "needs_background": "light"
     },
     "output_type": "display_data"
    },
    {
     "data": {
      "image/png": "[encoded data removed]",
      "text/plain": [
       "<Figure size 1008x288 with 1 Axes>"
      ]
     },
     "metadata": {
      "needs_background": "light"
     },
     "output_type": "display_data"
    },
    {
     "data": {
      "image/png": "[encoded data removed]",
      "text/plain": [
       "<Figure size 1008x288 with 1 Axes>"
      ]
     },
     "metadata": {
      "needs_background": "light"
     },
     "output_type": "display_data"
    },
    {
     "data": {
      "image/png": "[encoded data removed]",
      "text/plain": [
       "<Figure size 1008x288 with 1 Axes>"
      ]
     },
     "metadata": {
      "needs_background": "light"
     },
     "output_type": "display_data"
    },
    {
     "data": {
      "image/png": "[encoded data removed]",
      "text/plain": [
       "<Figure size 1008x288 with 1 Axes>"
      ]
     },
     "metadata": {
      "needs_background": "light"
     },
     "output_type": "display_data"
    },
    {
     "data": {
      "image/png": "[encoded data removed]",
      "text/plain": [
       "<Figure size 1008x288 with 1 Axes>"
      ]
     },
     "metadata": {
      "needs_background": "light"
     },
     "output_type": "display_data"
    },
    {
     "data": {
      "image/png": "[encoded data removed]",
      "text/plain": [
       "<Figure size 1008x288 with 1 Axes>"
      ]
     },
     "metadata": {
      "needs_background": "light"
     },
     "output_type": "display_data"
    },
    {
     "data": {
      "image/png": "[encoded data removed]",
      "text/plain": [
       "<Figure size 1008x288 with 1 Axes>"
      ]
     },
     "metadata": {
      "needs_background": "light"
     },
     "output_type": "display_data"
    },
    {
     "data": {
      "image/png": "[encoded data removed]",
      "text/plain": [
       "<Figure size 1008x288 with 1 Axes>"
      ]
     },
     "metadata": {
      "needs_background": "light"
     },
     "output_type": "display_data"
    },
    {
     "data": {
      "image/png": "[encoded data removed]",
      "text/plain": [
       "<Figure size 1008x288 with 1 Axes>"
      ]
     },
     "metadata": {
      "needs_background": "light"
     },
     "output_type": "display_data"
    },
    {
     "data": {
      "image/png": "[encoded data removed]",
      "text/plain": [
       "<Figure size 1008x288 with 1 Axes>"
      ]
     },
     "metadata": {
      "needs_background": "light"
     },
     "output_type": "display_data"
    },
    {
     "data": {
      "image/png": "[encoded data removed]",
      "text/plain": [
       "<Figure size 1008x288 with 1 Axes>"
      ]
     },
     "metadata": {
      "needs_background": "light"
     },
     "output_type": "display_data"
    },
    {
     "data": {
      "image/png": "[encoded data removed]",
      "text/plain": [
       "<Figure size 1008x288 with 1 Axes>"
      ]
     },
     "metadata": {
      "needs_background": "light"
     },
     "output_type": "display_data"
    },
    {
     "data": {
      "image/png": "[encoded data removed]",
      "text/plain": [
       "<Figure size 1008x288 with 1 Axes>"
      ]
     },
     "metadata": {
      "needs_background": "light"
     },
     "output_type": "display_data"
    },
    {
     "data": {
      "image/png": "[encoded data removed]",
      "text/plain": [
       "<Figure size 1008x288 with 1 Axes>"
      ]
     },
     "metadata": {
      "needs_background": "light"
     },
     "output_type": "display_data"
    },
    {
     "data": {
      "image/png": "[encoded data removed]",
      "text/plain": [
       "<Figure size 1008x288 with 1 Axes>"
      ]
     },
     "metadata": {
      "needs_background": "light"
     },
     "output_type": "display_data"
    },
    {
     "data": {
      "image/png": "[encoded data removed]",
      "text/plain": [
       "<Figure size 1008x288 with 1 Axes>"
      ]
     },
     "metadata": {
      "needs_background": "light"
     },
     "output_type": "display_data"
    }
   ],
   "source": [
    "for i in list_stud:\n",
    "    a = str(stud_math[i].dtype)\n",
    "    if a=='object':\n",
    "        get_boxplot(i)"
   ]
  },
  {
   "cell_type": "markdown",
   "metadata": {},
   "source": [
    "# Влияние параметра будет когда некая периодичность в боксплотах, таких как higher(хочет поступать в универ), Mjob (работа матери, причем работа отца не так сильно влияет),schoolsup (доп поддержка)\n",
    "\n",
    "### Таким образом итоговые данные которые потенциально могут влиять на оценку за экзамен:\n",
    "1. higher\n",
    "2. age (занижают оценку)\n",
    "3. Medu\n",
    "4. studytime\n",
    "5. failures (занижают оценку)\n",
    "6. absences (занижают оценку)\n",
    "7. goout (занижают)\n",
    "8. Mjob\n",
    "9. schoolsup"
   ]
  },
  {
   "cell_type": "code",
   "execution_count": 47,
   "metadata": {},
   "outputs": [
    {
     "data": {
      "text/html": [
       "<div>\n",
       "<style scoped>\n",
       "    .dataframe tbody tr th:only-of-type {\n",
       "        vertical-align: middle;\n",
       "    }\n",
       "\n",
       "    .dataframe tbody tr th {\n",
       "        vertical-align: top;\n",
       "    }\n",
       "\n",
       "    .dataframe thead th {\n",
       "        text-align: right;\n",
       "    }\n",
       "</style>\n",
       "<table border=\"1\" class=\"dataframe\">\n",
       "  <thead>\n",
       "    <tr style=\"text-align: right;\">\n",
       "      <th></th>\n",
       "      <th>higher</th>\n",
       "      <th>age</th>\n",
       "      <th>Medu</th>\n",
       "      <th>studytime</th>\n",
       "      <th>failures</th>\n",
       "      <th>absences</th>\n",
       "      <th>goout</th>\n",
       "      <th>Mjob</th>\n",
       "      <th>schoolsup</th>\n",
       "    </tr>\n",
       "  </thead>\n",
       "  <tbody>\n",
       "    <tr>\n",
       "      <th>0</th>\n",
       "      <td>yes</td>\n",
       "      <td>18</td>\n",
       "      <td>4.0</td>\n",
       "      <td>2.0</td>\n",
       "      <td>0.0</td>\n",
       "      <td>6.0</td>\n",
       "      <td>4.0</td>\n",
       "      <td>at_home</td>\n",
       "      <td>yes</td>\n",
       "    </tr>\n",
       "    <tr>\n",
       "      <th>1</th>\n",
       "      <td>yes</td>\n",
       "      <td>17</td>\n",
       "      <td>1.0</td>\n",
       "      <td>2.0</td>\n",
       "      <td>0.0</td>\n",
       "      <td>4.0</td>\n",
       "      <td>3.0</td>\n",
       "      <td>at_home</td>\n",
       "      <td>no</td>\n",
       "    </tr>\n",
       "    <tr>\n",
       "      <th>2</th>\n",
       "      <td>yes</td>\n",
       "      <td>15</td>\n",
       "      <td>1.0</td>\n",
       "      <td>2.0</td>\n",
       "      <td>3.0</td>\n",
       "      <td>10.0</td>\n",
       "      <td>2.0</td>\n",
       "      <td>at_home</td>\n",
       "      <td>yes</td>\n",
       "    </tr>\n",
       "    <tr>\n",
       "      <th>3</th>\n",
       "      <td>yes</td>\n",
       "      <td>15</td>\n",
       "      <td>4.0</td>\n",
       "      <td>3.0</td>\n",
       "      <td>0.0</td>\n",
       "      <td>2.0</td>\n",
       "      <td>2.0</td>\n",
       "      <td>health</td>\n",
       "      <td>no</td>\n",
       "    </tr>\n",
       "    <tr>\n",
       "      <th>4</th>\n",
       "      <td>yes</td>\n",
       "      <td>16</td>\n",
       "      <td>3.0</td>\n",
       "      <td>2.0</td>\n",
       "      <td>0.0</td>\n",
       "      <td>4.0</td>\n",
       "      <td>2.0</td>\n",
       "      <td>other</td>\n",
       "      <td>no</td>\n",
       "    </tr>\n",
       "  </tbody>\n",
       "</table>\n",
       "</div>"
      ],
      "text/plain": [
       "  higher  age  Medu  studytime  failures  absences  goout     Mjob schoolsup\n",
       "0    yes   18   4.0        2.0       0.0       6.0    4.0  at_home       yes\n",
       "1    yes   17   1.0        2.0       0.0       4.0    3.0  at_home        no\n",
       "2    yes   15   1.0        2.0       3.0      10.0    2.0  at_home       yes\n",
       "3    yes   15   4.0        3.0       0.0       2.0    2.0   health        no\n",
       "4    yes   16   3.0        2.0       0.0       4.0    2.0    other        no"
      ]
     },
     "execution_count": 47,
     "metadata": {},
     "output_type": "execute_result"
    }
   ],
   "source": [
    "stud_math_for_model = stud_math.loc[:, ['higher', 'age', 'Medu', 'studytime', 'failures','absences','goout','Mjob','schoolsup']]\n",
    "stud_math_for_model.head()"
   ]
  }
 ],
 "metadata": {
  "kernelspec": {
   "display_name": "Python 3",
   "language": "python",
   "name": "python3"
  },
  "language_info": {
   "codemirror_mode": {
    "name": "ipython",
    "version": 3
   },
   "file_extension": ".py",
   "mimetype": "text/x-python",
   "name": "python",
   "nbconvert_exporter": "python",
   "pygments_lexer": "ipython3",
   "version": "3.6.9"
  }
 },
 "nbformat": 4,
 "nbformat_minor": 4
}
